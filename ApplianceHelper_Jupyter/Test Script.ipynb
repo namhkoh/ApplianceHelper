{
 "cells": [
  {
   "cell_type": "code",
   "execution_count": 5,
   "metadata": {},
   "outputs": [
    {
     "name": "stdout",
     "output_type": "stream",
     "text": [
      "will:O i:O be:O able:O to:O use:O porcelain:B-cookware in:O the:O microwavawe:B-appliance <=> appropriate\n"
     ]
    }
   ],
   "source": [
    "file = open('C:\\\\Users\\\\l.kwon\\\\slot_filling_and_intent_detection_of_SLU\\\\data\\\\appliance7\\\\test')\n",
    "for x in file:\n",
    "    print(x)\n",
    "file.close()"
   ]
  },
  {
   "cell_type": "code",
   "execution_count": 6,
   "metadata": {},
   "outputs": [
    {
     "name": "stdout",
     "output_type": "stream",
     "text": [
      "0 : will:O:O i:O:O be:O:O able:O:O to:O:O use:O:O porcelain:B-cookware:B-cookware in:O:O the:O:O microwavawe:B-appliance:B-appliance <=> appropriate <=> appropriate\n",
      "\n"
     ]
    }
   ],
   "source": [
    "file = open('C:\\\\Users\\\\l.kwon\\\\slot_filling_and_intent_detection_of_SLU\\\\exp\\\\model2\\\\test.eval')\n",
    "for x in file:\n",
    "    print(x)\n",
    "file.close()"
   ]
  },
  {
   "cell_type": "code",
   "execution_count": null,
   "metadata": {},
   "outputs": [],
   "source": []
  }
 ],
 "metadata": {
  "kernelspec": {
   "display_name": "Python 3",
   "language": "python",
   "name": "python3"
  },
  "language_info": {
   "codemirror_mode": {
    "name": "ipython",
    "version": 3
   },
   "file_extension": ".py",
   "mimetype": "text/x-python",
   "name": "python",
   "nbconvert_exporter": "python",
   "pygments_lexer": "ipython3",
   "version": "3.7.6"
  }
 },
 "nbformat": 4,
 "nbformat_minor": 4
}
