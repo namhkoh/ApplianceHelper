{
 "cells": [
  {
   "cell_type": "code",
   "execution_count": 54,
   "metadata": {},
   "outputs": [],
   "source": [
    "import pandas as pd\n",
    "import numpy as np \n",
    "import re"
   ]
  },
  {
   "cell_type": "code",
   "execution_count": 55,
   "metadata": {},
   "outputs": [],
   "source": [
    "# The file that includes the slot and intent information.\n",
    "df = pd.read_excel(\"Appliance Slot Intent.xlsx\",encoding = \"ISO-8859-1\", sheet_name=\"Main V5.\")\n",
    "# The file that includes the types of values inside that slot. \n",
    "slot_df = pd.read_excel(\"Appliance Slot Intent.xlsx\",encoding = \"ISO-8859-1\", sheet_name=\"Slot Description V4.\")"
   ]
  },
  {
   "cell_type": "code",
   "execution_count": 56,
   "metadata": {},
   "outputs": [],
   "source": [
    "# Slot dataframe trimmed so that the Description is removed. \n",
    "slot_df_ = slot_df.iloc[:,[0,2]]"
   ]
  },
  {
   "cell_type": "code",
   "execution_count": 57,
   "metadata": {},
   "outputs": [],
   "source": [
    "# replace the Example column with an array of the values separated by a comma\n",
    "slot_df_ = slot_df_[slot_df_['Examples'].notnull()].copy()\n",
    "slot_df_['Examples'] = slot_df_[\"Examples\"].apply(lambda x: x.split(', '))"
   ]
  },
  {
   "cell_type": "code",
   "execution_count": 58,
   "metadata": {},
   "outputs": [],
   "source": [
    "# dictionary of the slots. Key: slot value: possible vallues of the slot. \n",
    "slot_dict = dict(zip(slot_df_.Slot, slot_df_.Examples))"
   ]
  },
  {
   "cell_type": "code",
   "execution_count": 59,
   "metadata": {},
   "outputs": [],
   "source": [
    "# Split the TARGET_QUESTION column and make it into an array of questions\n",
    "df.iloc[:,1] = df.iloc[:,1].apply(lambda x: x.split('\\n'))"
   ]
  },
  {
   "cell_type": "code",
   "execution_count": 60,
   "metadata": {},
   "outputs": [],
   "source": [
    "#Temporary extract the TARGET_QUESTION column that was processed above. \n",
    "target = df.iloc[:,1]"
   ]
  },
  {
   "cell_type": "code",
   "execution_count": 61,
   "metadata": {},
   "outputs": [],
   "source": [
    "#creating the slots for each dictionary\n",
    "slots = df.iloc[:,4].apply(lambda x: x.split(' '))"
   ]
  },
  {
   "cell_type": "code",
   "execution_count": 62,
   "metadata": {},
   "outputs": [],
   "source": [
    "target_dic = df.iloc[:,[0,1]]\n",
    "intent_dict = df.QUESTION_LABEL.to_dict()"
   ]
  },
  {
   "cell_type": "code",
   "execution_count": null,
   "metadata": {},
   "outputs": [],
   "source": []
  },
  {
   "cell_type": "code",
   "execution_count": null,
   "metadata": {},
   "outputs": [],
   "source": []
  },
  {
   "cell_type": "code",
   "execution_count": 63,
   "metadata": {},
   "outputs": [],
   "source": [
    "def one_slot(s,j):\n",
    "    p = 0\n",
    "    for i in range(len(slot_dict[slots[s][0]])): #Slot 1\n",
    "            x = target[s][j]\n",
    "            x = re.sub(slots[s][0], slot_dict[slots[s][0]][i], x)\n",
    "            p += 1\n",
    "            print(x)    \n",
    "    return p\n",
    "\n",
    "def two_slots(s,j):\n",
    "    p = 0\n",
    "    for i in range(len(slot_dict[slots[s][0]])): #Slot 1\n",
    "        for k in range(len(slot_dict[slots[s][1]])):#Slot 2\n",
    "            x = target[s][j]\n",
    "            x = re.sub(slots[s][0], slot_dict[slots[s][0]][i], x)\n",
    "            x = re.sub(slots[s][1], slot_dict[slots[s][1]][k], x)\n",
    "            p += 1\n",
    "            print(x)    \n",
    "    return p\n",
    "\n",
    "def three_slots(s,j):\n",
    "    p = 0\n",
    "    for i in range(len(slot_dict[slots[s][0]])): #Slot 1\n",
    "        for k in range(len(slot_dict[slots[s][1]])):#Slot 2\n",
    "            for l in range(len(slot_dict[slots[s][2]])):#Slot 3\n",
    "                x = target[s][j]\n",
    "                x = re.sub(slots[s][0], slot_dict[slots[s][0]][i], x)\n",
    "                x = re.sub(slots[s][1], slot_dict[slots[s][1]][k], x)\n",
    "                x = re.sub(slots[s][2], slot_dict[slots[s][2]][l], x)\n",
    "                p += 1\n",
    "                print(x)   \n",
    "    return p\n",
    "\n",
    "def print_all(intent_number = len(target), single = False):\n",
    "    i = 0\n",
    "    start = 0\n",
    "    end = intent_number\n",
    "    if (single == True):\n",
    "        start = intent_number - 1\n",
    "        end = intent_number\n",
    "    for s in range(start,end): #Intent number\n",
    "        print(\"-----------------------------------------------\")\n",
    "        print(\"Intent:\",intent_dict[s],\"|\",\"number of slots:\",len(slots[s]))\n",
    "        for j in range(len(target[s])): #Sentence in the intent\n",
    "            if (len(slots[s]) == 2):\n",
    "                #print(\"two slots\")\n",
    "                i += two_slots(s,j)    \n",
    "            elif (len(slots[s]) == 3):\n",
    "                #print(\"three slots\")\n",
    "                i += three_slots(s,j)\n",
    "            elif (len(slots[s]) == 1):\n",
    "                #print(\"one slot\")\n",
    "                i += one_slot(s,j)\n",
    "            print(\"-----------------------------------------------\")\n",
    "    print(\"-----------------------------------------------\")\n",
    "\n",
    "    print(i)"
   ]
  },
  {
   "cell_type": "code",
   "execution_count": 65,
   "metadata": {
    "scrolled": true
   },
   "outputs": [
    {
     "name": "stdout",
     "output_type": "stream",
     "text": [
      "-----------------------------------------------\n",
      "Intent: Options | number of slots: 2\n",
      "What are the different options of the cooking from the microwavawe?\n",
      "What are the different options of the boiling from the microwavawe?\n",
      "What are the different options of the melting from the microwavawe?\n",
      "What are the different options of the surface-cooking from the microwavawe?\n",
      "What are the different options of the softening from the microwavawe?\n",
      "What are the different options of the airfry from the microwavawe?\n",
      "What are the different options of the boil from the microwavawe?\n",
      "What are the different options of the keep-warm from the microwavawe?\n",
      "What are the different options of the dehydrate from the microwavawe?\n",
      "What are the different options of the autocook from the microwavawe?\n",
      "What are the different options of the grill from the microwavawe?\n",
      "What are the different options of the microwave-grill from the microwavawe?\n",
      "What are the different options of the defrost from the microwavawe?\n",
      "What are the different options of the beeper from the microwavawe?\n",
      "What are the different options of the power-defrost from the microwavawe?\n",
      "What are the different options of the reheat from the microwavawe?\n",
      "What are the different options of the auto-defrost from the microwavawe?\n",
      "What are the different options of the baking-feature from the microwavawe?\n",
      "What are the different options of the self-clean from the microwavawe?\n",
      "What are the different options of the timer from the microwavawe?\n",
      "What are the different options of the smart-control from the microwavawe?\n",
      "What are the different options of the lamp from the microwavawe?\n",
      "What are the different options of the lightings from the microwavawe?\n",
      "What are the different options of the clock-setting from the microwavawe?\n",
      "What are the different options of the child-lock from the microwavawe?\n",
      "What are the different options of the fan from the microwavawe?\n",
      "What are the different options of the echo-mode from the microwavawe?\n",
      "What are the different options of the surface-control from the microwavawe?\n",
      "What are the different options of the vent-button from the microwavawe?\n",
      "-----------------------------------------------\n",
      "What options does the cooking from the microwavawe provide?\n",
      "What options does the boiling from the microwavawe provide?\n",
      "What options does the melting from the microwavawe provide?\n",
      "What options does the surface-cooking from the microwavawe provide?\n",
      "What options does the softening from the microwavawe provide?\n",
      "What options does the airfry from the microwavawe provide?\n",
      "What options does the boil from the microwavawe provide?\n",
      "What options does the keep-warm from the microwavawe provide?\n",
      "What options does the dehydrate from the microwavawe provide?\n",
      "What options does the autocook from the microwavawe provide?\n",
      "What options does the grill from the microwavawe provide?\n",
      "What options does the microwave-grill from the microwavawe provide?\n",
      "What options does the defrost from the microwavawe provide?\n",
      "What options does the beeper from the microwavawe provide?\n",
      "What options does the power-defrost from the microwavawe provide?\n",
      "What options does the reheat from the microwavawe provide?\n",
      "What options does the auto-defrost from the microwavawe provide?\n",
      "What options does the baking-feature from the microwavawe provide?\n",
      "What options does the self-clean from the microwavawe provide?\n",
      "What options does the timer from the microwavawe provide?\n",
      "What options does the smart-control from the microwavawe provide?\n",
      "What options does the lamp from the microwavawe provide?\n",
      "What options does the lightings from the microwavawe provide?\n",
      "What options does the clock-setting from the microwavawe provide?\n",
      "What options does the child-lock from the microwavawe provide?\n",
      "What options does the fan from the microwavawe provide?\n",
      "What options does the echo-mode from the microwavawe provide?\n",
      "What options does the surface-control from the microwavawe provide?\n",
      "What options does the vent-button from the microwavawe provide?\n",
      "-----------------------------------------------\n",
      "-----------------------------------------------\n",
      "58\n"
     ]
    }
   ],
   "source": [
    "# print_all(single = False) # Print everything\n",
    "print_all(17, single=True)"
   ]
  },
  {
   "cell_type": "code",
   "execution_count": null,
   "metadata": {},
   "outputs": [],
   "source": []
  }
 ],
 "metadata": {
  "kernelspec": {
   "display_name": "Python 3",
   "language": "python",
   "name": "python3"
  },
  "language_info": {
   "codemirror_mode": {
    "name": "ipython",
    "version": 3
   },
   "file_extension": ".py",
   "mimetype": "text/x-python",
   "name": "python",
   "nbconvert_exporter": "python",
   "pygments_lexer": "ipython3",
   "version": "3.7.6"
  }
 },
 "nbformat": 4,
 "nbformat_minor": 4
}
