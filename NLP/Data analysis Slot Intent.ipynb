{
 "cells": [
  {
   "cell_type": "code",
   "execution_count": 1,
   "metadata": {},
   "outputs": [],
   "source": [
    "import pandas as pd\n",
    "import numpy as np \n",
    "import re\n",
    "import random\n",
    "import copy"
   ]
  },
  {
   "cell_type": "code",
   "execution_count": 2,
   "metadata": {},
   "outputs": [],
   "source": [
    "# The file that includes the slot and intent information.\n",
    "df = pd.read_excel(\"appliance-data-2.xlsx\",encoding = \"ISO-8859-1\", sheet_name=\"appliance-data-2\",header=None)"
   ]
  },
  {
   "cell_type": "code",
   "execution_count": 36,
   "metadata": {},
   "outputs": [
    {
     "name": "stdout",
     "output_type": "stream",
     "text": [
      "dict_keys(['buy', 'clean', 'code', 'appropriate', 'remove', 'replace', 'cook', 'purpose', 'set', 'use', 'on', 'off'])\n",
      "dict_keys(['buy', 'set', 'use', 'cook', 'appropriate', 'replace', 'clean'])\n"
     ]
    }
   ],
   "source": [
    "oven = {}\n",
    "oven_intent_slot = {}\n",
    "microwave_intent_slot = {}\n",
    "microwave = {}\n",
    "with open(\"appliance-data-3.txt\") as fp:\n",
    "    for line in fp:\n",
    "        temp = line.strip().split(\"\\t\")\n",
    "        if(temp[0] == '1'):\n",
    "            appliance = temp[2]\n",
    "            intent = temp[1]\n",
    "            slot_info = temp[4].split(\":\")\n",
    "            slot_name = slot_info[0]\n",
    "            slot = slot_info[1]\n",
    "            if(appliance == 'oven'):\n",
    "                if intent not in oven.keys():\n",
    "                    oven[intent] = {}\n",
    "                oven[intent][slot] = slot_name\n",
    "            elif(appliance=='microwave'):\n",
    "                if intent not in microwave.keys():\n",
    "                    microwave[intent] = {}\n",
    "                microwave[intent][slot] = slot_name\n",
    "                \n",
    "            \n",
    "print(oven.keys())\n",
    "print(microwave.keys())"
   ]
  },
  {
   "cell_type": "code",
   "execution_count": 53,
   "metadata": {},
   "outputs": [
    {
     "data": {
      "text/plain": [
       "{'self-cleaning-cycle': 'onFeature', 'sound': 'onFeature', 'wifi': 'onFeature'}"
      ]
     },
     "execution_count": 53,
     "metadata": {},
     "output_type": "execute_result"
    }
   ],
   "source": [
    "oven['on']"
   ]
  },
  {
   "cell_type": "code",
   "execution_count": 54,
   "metadata": {},
   "outputs": [
    {
     "ename": "KeyError",
     "evalue": "'off'",
     "output_type": "error",
     "traceback": [
      "\u001b[1;31m---------------------------------------------------------------------------\u001b[0m",
      "\u001b[1;31mKeyError\u001b[0m                                  Traceback (most recent call last)",
      "\u001b[1;32m<ipython-input-54-93da6f0c91ef>\u001b[0m in \u001b[0;36m<module>\u001b[1;34m\u001b[0m\n\u001b[1;32m----> 1\u001b[1;33m \u001b[0mmicrowave\u001b[0m\u001b[1;33m[\u001b[0m\u001b[1;34m'off'\u001b[0m\u001b[1;33m]\u001b[0m\u001b[1;33m\u001b[0m\u001b[1;33m\u001b[0m\u001b[0m\n\u001b[0m",
      "\u001b[1;31mKeyError\u001b[0m: 'off'"
     ]
    }
   ],
   "source": [
    "microwave['off']"
   ]
  },
  {
   "cell_type": "code",
   "execution_count": 39,
   "metadata": {},
   "outputs": [
    {
     "data": {
      "text/plain": [
       "dict_keys(['door', 'light', 'wirerack', 'air-fry-tray', 'storage-drawer', 'graphite-lubricant'])"
      ]
     },
     "execution_count": 39,
     "metadata": {},
     "output_type": "execute_result"
    }
   ],
   "source": [
    "oven['buy'].keys()"
   ]
  },
  {
   "cell_type": "code",
   "execution_count": null,
   "metadata": {},
   "outputs": [],
   "source": [
    "with open(data_path, 'r') as f:\n",
    "    for ind, line in enumerate(f):\n",
    "        line_num += 1\n",
    "        slot_tag_line, class_name = line.strip('\\n\\r').split(' <=> ')\n",
    "        for item in slot_tag_line.split(' '):\n",
    "        tmp = item.split(separator)\n",
    "        assert len(tmp) >= 2"
   ]
  }
 ],
 "metadata": {
  "kernelspec": {
   "display_name": "Python 3",
   "language": "python",
   "name": "python3"
  },
  "language_info": {
   "codemirror_mode": {
    "name": "ipython",
    "version": 3
   },
   "file_extension": ".py",
   "mimetype": "text/x-python",
   "name": "python",
   "nbconvert_exporter": "python",
   "pygments_lexer": "ipython3",
   "version": "3.7.6"
  }
 },
 "nbformat": 4,
 "nbformat_minor": 4
}
