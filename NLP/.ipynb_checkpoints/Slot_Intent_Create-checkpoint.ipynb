{
 "cells": [
  {
   "cell_type": "code",
   "execution_count": 24,
   "metadata": {},
   "outputs": [],
   "source": [
    "import pandas as pd\n",
    "import numpy as np \n",
    "import re\n",
    "import random\n",
    "import copy"
   ]
  },
  {
   "cell_type": "code",
   "execution_count": 25,
   "metadata": {},
   "outputs": [],
   "source": [
    "# The file that includes the slot and intent information.\n",
    "df = pd.read_excel(\"Appliance Slot Intent.xlsx\",encoding = \"ISO-8859-1\", sheet_name=\"Main V4.\")\n",
    "# The file that includes the types of values inside that slot. \n",
    "slot_df = pd.read_excel(\"Appliance Slot Intent.xlsx\",encoding = \"ISO-8859-1\", sheet_name=\"Slot Description V4.\")"
   ]
  },
  {
   "cell_type": "code",
   "execution_count": 26,
   "metadata": {},
   "outputs": [
    {
     "name": "stderr",
     "output_type": "stream",
     "text": [
      "C:\\Users\\l.kwon\\Anaconda3\\lib\\site-packages\\ipykernel_launcher.py:6: SettingWithCopyWarning: \n",
      "A value is trying to be set on a copy of a slice from a DataFrame.\n",
      "Try using .loc[row_indexer,col_indexer] = value instead\n",
      "\n",
      "See the caveats in the documentation: https://pandas.pydata.org/pandas-docs/stable/user_guide/indexing.html#returning-a-view-versus-a-copy\n",
      "  \n"
     ]
    }
   ],
   "source": [
    "## Preprocessing slot_df dataframe\n",
    "\n",
    "# Slot dataframe trimmed so that the Description is removed. \n",
    "slot_df_ = slot_df.iloc[:,[0,2]]\n",
    "# replace the Example column with an array of the values separated by a comma\n",
    "slot_df_['Examples'] = slot_df_[\"Examples\"].apply(lambda x: x.split(', '))\n",
    "# dictionary of the slots. Key: slot value: possible vallues of the slot. \n",
    "slot_dict = dict(zip(slot_df_.Slot, slot_df_.Examples))"
   ]
  },
  {
   "cell_type": "code",
   "execution_count": 27,
   "metadata": {},
   "outputs": [],
   "source": [
    "# Split the TARGET_QUESTION column and make it into an array of questions\n",
    "df.iloc[:,1] = df.iloc[:,1].apply(lambda x: x.split('\\n'))\n",
    "#Temporary extract the TARGET_QUESTION column that was processed above. \n",
    "target = df.iloc[:,1]"
   ]
  },
  {
   "cell_type": "code",
   "execution_count": 28,
   "metadata": {},
   "outputs": [],
   "source": [
    "# A Series of arrays representing the respective slots\n",
    "slots = df.iloc[:,4].apply(lambda x: x.split(' '))\n",
    "# The dictionary where key:Intent value:Question\n",
    "target_dic = df.iloc[:,[0,1]]\n",
    "# A dictionary of intents key: int value: intent\n",
    "intent_dict = df.QUESTION_LABEL.to_dict()"
   ]
  },
  {
   "cell_type": "code",
   "execution_count": 29,
   "metadata": {},
   "outputs": [],
   "source": [
    "slot_dict_boi = copy.deepcopy(slot_dict)\n",
    "for key,value in slot_dict.items():\n",
    "    list_slot = []\n",
    "    for i in value:\n",
    "        s = i.split()\n",
    "        for j in range(len(s)):\n",
    "            if j == 0:\n",
    "                s[j] = s[j] + \":B-\" + key[1:]\n",
    "            else:\n",
    "                s[j] = s[j] + \":I-\" + key[1:]\n",
    "        i = ' '.join(s)\n",
    "        list_slot.append(i)\n",
    "    slot_dict_boi[key] = list_slot"
   ]
  },
  {
   "cell_type": "code",
   "execution_count": 40,
   "metadata": {},
   "outputs": [],
   "source": [
    "def boi_save(intent_number = len(target), single = False):\n",
    "    f = open(\"appliance\\\\train_test\", \"w\")\n",
    "    line = \"\"\n",
    "    start = 0\n",
    "    end = intent_number\n",
    "    if (single == True):\n",
    "        start = intent_number - 1\n",
    "        end = intent_number\n",
    "    for s in range(start,end): #Intent number\n",
    "#         print(\"-----------------------------------------------\")\n",
    "#         print(\"Intent:\",intent_dict[s],\"|\",\"number of slots:\",len(slots[s]))\n",
    "        for j in range(len(target[s])): #Sentence in the intent\n",
    "            if (len(slots[s]) == 2):\n",
    "                line,_ = boi_two_slots_write(s,j,f)    \n",
    "            elif (len(slots[s]) == 3):\n",
    "                line,_ = boi_three_slots_write(s,j,f)\n",
    "            elif (len(slots[s]) == 1):\n",
    "                line,_ = boi_one_slot_write(s,j,f)\n",
    "#             print(\"-----------------------------------------------\")\n",
    "#     print(\"-----------------------------------------------\")\n",
    "    f.close()\n",
    "\n",
    "def boi_one_slot_write(s,j,f):\n",
    "    p = 0\n",
    "    for i in range(len(slot_dict[slots[s][0]])): #Slot 1\n",
    "            x = target[s][j]\n",
    "            x = re.sub(slots[s][0], slot_dict_boi[slots[s][0]][i], x)\n",
    "            x_boi = re.sub(r'((?:^|(?<= ))[a-zA-Z0-9]+(?= |$))', r'\\1:O', x) \n",
    "            p += 1\n",
    "            f.write(x_boi[:-1] + \" <=> \" + intent_dict[s] + \"\\n\")\n",
    "            #print(x_boi)  \n",
    "    return x, p\n",
    "\n",
    "def boi_two_slots_write(s,j,f):\n",
    "    p = 0\n",
    "    x_boi = \"\"\n",
    "    for i in range(len(slot_dict_boi[slots[s][0]])): #Slot 1\n",
    "        for k in range(len(slot_dict_boi[slots[s][1]])):#Slot 2\n",
    "            x_original = target[s][j]\n",
    "            x = re.sub(slots[s][0], slot_dict_boi[slots[s][0]][i], x_original)\n",
    "            x = re.sub(slots[s][1], slot_dict_boi[slots[s][1]][k], x)\n",
    "            x_boi = re.sub(r'((?:^|(?<= ))[a-zA-Z0-9]+(?= |$))', r'\\1:O', x) \n",
    "            p += 1\n",
    "            f.write(x_boi[:-1]+\" <=> \" + intent_dict[s] + \"\\n\")\n",
    "            #print(x_boi)\n",
    "\n",
    "    return x, p\n",
    "\n",
    "def boi_three_slots_write(s,j,f):\n",
    "    p = 0\n",
    "    for i in range(len(slot_dict[slots[s][0]])): #Slot 1\n",
    "        for k in range(len(slot_dict[slots[s][1]])):#Slot 2\n",
    "            for l in range(len(slot_dict[slots[s][2]])):#Slot 3\n",
    "                x_original = target[s][j]\n",
    "                x = re.sub(slots[s][0], slot_dict_boi[slots[s][0]][i], x_original)\n",
    "                x = re.sub(slots[s][1], slot_dict_boi[slots[s][1]][k], x)\n",
    "                x = re.sub(slots[s][2], slot_dict_boi[slots[s][2]][l], x)\n",
    "                x_boi = re.sub(r'((?:^|(?<= ))[a-zA-Z0-9]+(?= |$))', r'\\1:O', x) \n",
    "                p += 1\n",
    "                f.write(x_boi[:-1]+\" <=> \"+ intent_dict[s] + \"\\n\")\n",
    "                #print(x_boi)   \n",
    "    return x, p"
   ]
  },
  {
   "cell_type": "code",
   "execution_count": 41,
   "metadata": {},
   "outputs": [],
   "source": [
    "boi_save()"
   ]
  },
  {
   "cell_type": "code",
   "execution_count": 45,
   "metadata": {},
   "outputs": [],
   "source": [
    "# Create appliance vocabulary for slots. \n",
    "\n",
    "slot_array = [] \n",
    "for key,value in slot_dict_boi.items():\n",
    "    for i in value:\n",
    "        slot_array = slot_array + i.split()\n",
    "slot_array.sort()\n",
    "slot_vocab = []\n",
    "for i in slot_array:\n",
    "    slot_vocab.append(i.split(':',1)[1])\n",
    "    \n",
    "slot_vocab.sort()\n",
    "slot_vocab = list(dict.fromkeys(slot_vocab))\n",
    "\n",
    "# for i in slot_vocab:\n",
    "#     print(i)\n",
    "    \n",
    "f = open('appliance\\\\vocab.slot','w')\n",
    "for value in slot_vocab:\n",
    "    f.write(value + \"\\n\")\n",
    "f.write(\"O\")\n",
    "f.close()\n",
    "\n",
    "# Create appliance vocabulary for intents\n",
    "\n",
    "f = open('appliance\\\\vocab.intent','w')\n",
    "for key,value in intent_dict.items():\n",
    "    f.write(value + \"\\n\")\n",
    "f.close()"
   ]
  },
  {
   "cell_type": "code",
   "execution_count": 46,
   "metadata": {},
   "outputs": [
    {
     "name": "stdout",
     "output_type": "stream",
     "text": [
      "841\n",
      "588\n",
      "168\n",
      "85\n"
     ]
    }
   ],
   "source": [
    "my_file = open('appliance\\\\train_test','r')\n",
    "content = my_file.readlines()\n",
    "random.shuffle(content)\n",
    "print(len(content))\n",
    "train = content[:int(len(content)*0.7)]\n",
    "test = content[int(len(content)*0.7):int(len(content)*0.9)]\n",
    "valid = content[int(len(content)*0.9):]\n",
    "print(len(train))\n",
    "print(len(test))\n",
    "print(len(valid))\n",
    "\n",
    "f = open('temp_train','w')\n",
    "for i in train:\n",
    "    f.write(i)\n",
    "    \n",
    "f = open('temp_test','w')\n",
    "for i in test:\n",
    "    f.write(i)\n",
    "    \n",
    "f = open('temp_valid','w')\n",
    "for i in test:\n",
    "    f.write(i)"
   ]
  },
  {
   "cell_type": "code",
   "execution_count": null,
   "metadata": {},
   "outputs": [],
   "source": []
  }
 ],
 "metadata": {
  "kernelspec": {
   "display_name": "Python 3",
   "language": "python",
   "name": "python3"
  },
  "language_info": {
   "codemirror_mode": {
    "name": "ipython",
    "version": 3
   },
   "file_extension": ".py",
   "mimetype": "text/x-python",
   "name": "python",
   "nbconvert_exporter": "python",
   "pygments_lexer": "ipython3",
   "version": "3.7.6"
  }
 },
 "nbformat": 4,
 "nbformat_minor": 4
}
