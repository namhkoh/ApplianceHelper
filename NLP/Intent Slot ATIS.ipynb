{
 "cells": [
  {
   "cell_type": "code",
   "execution_count": 1,
   "metadata": {},
   "outputs": [],
   "source": [
    "import numpy as np\n",
    "import pandas as pd\n",
    "import os"
   ]
  },
  {
   "cell_type": "code",
   "execution_count": 2,
   "metadata": {},
   "outputs": [],
   "source": [
    "import numpy"
   ]
  },
  {
   "cell_type": "code",
   "execution_count": 2,
   "metadata": {},
   "outputs": [
    {
     "name": "stdout",
     "output_type": "stream",
     "text": [
      "['atis.dict.intent.csv', 'atis.dict.slots.csv', 'atis.dict.vocab.csv', 'atis.test.intent.csv', 'atis.test.pkl', 'atis.test.query.csv', 'atis.test.slots.csv', 'atis.train.intent.csv', 'atis.train.pkl', 'atis.train.query.csv', 'atis.train.slots.csv']\n"
     ]
    }
   ],
   "source": [
    "print(os.listdir(\"input/atis\"))"
   ]
  },
  {
   "cell_type": "code",
   "execution_count": 3,
   "metadata": {},
   "outputs": [],
   "source": [
    "import pickle"
   ]
  },
  {
   "cell_type": "code",
   "execution_count": 4,
   "metadata": {},
   "outputs": [],
   "source": [
    "DATA_DIR = \"input/atis\""
   ]
  },
  {
   "cell_type": "code",
   "execution_count": 5,
   "metadata": {},
   "outputs": [],
   "source": [
    "def load_ds(fname='atis.train.pkl'):\n",
    "    with open(fname, 'rb') as stream:\n",
    "        ds,dicts = pickle.load(stream)\n",
    "    print(\"Done loading: \", fname)\n",
    "    print('Samples: {:4d}'.format(len(ds['query'])))\n",
    "    print('vocab_size: {:4d}'.format(len(dicts['token_ids'])))\n",
    "    print('slot count: {:4d}'. format(len([dicts['slot_ids']])))\n",
    "    print('intent count: {:4d}'.format(len([dicts['intent_ids']])))\n",
    "    return ds, dicts"
   ]
  },
  {
   "cell_type": "code",
   "execution_count": 6,
   "metadata": {},
   "outputs": [
    {
     "name": "stdout",
     "output_type": "stream",
     "text": [
      "Done loading:  input/atis\\atis.train.pkl\n",
      "Samples: 4978\n",
      "vocab_size:  943\n",
      "slot count:    1\n",
      "intent count:    1\n",
      "Done loading:  input/atis\\atis.test.pkl\n",
      "Samples:  893\n",
      "vocab_size:  943\n",
      "slot count:    1\n",
      "intent count:    1\n"
     ]
    }
   ],
   "source": [
    "train_ds, dicts = load_ds(os.path.join(DATA_DIR,'atis.train.pkl'))\n",
    "test_ds, dicts = load_ds(os.path.join(DATA_DIR,'atis.test.pkl'))"
   ]
  },
  {
   "cell_type": "code",
   "execution_count": 9,
   "metadata": {},
   "outputs": [],
   "source": [
    "# dicts assigns a number for each word or token"
   ]
  },
  {
   "cell_type": "code",
   "execution_count": 17,
   "metadata": {},
   "outputs": [],
   "source": [
    "t2i, s2i, in2i = map(dicts.get, ['token_ids', 'slot_ids', 'intent_ids'])"
   ]
  },
  {
   "cell_type": "code",
   "execution_count": 18,
   "metadata": {},
   "outputs": [],
   "source": [
    "# is a token anything that is not a slot or an id?"
   ]
  },
  {
   "cell_type": "code",
   "execution_count": 32,
   "metadata": {},
   "outputs": [
    {
     "data": {
      "text/plain": [
       "{'abbreviation': 0,\n",
       " 'aircraft': 1,\n",
       " 'aircraft+flight+flight_no': 2,\n",
       " 'airfare': 3,\n",
       " 'airfare+flight': 4,\n",
       " 'airfare+flight_time': 5,\n",
       " 'airline': 6,\n",
       " 'airline+flight_no': 7,\n",
       " 'airport': 8,\n",
       " 'capacity': 9,\n",
       " 'cheapest': 10,\n",
       " 'city': 11,\n",
       " 'day_name': 12,\n",
       " 'distance': 13,\n",
       " 'flight': 14,\n",
       " 'flight+airfare': 15,\n",
       " 'flight+airline': 16,\n",
       " 'flight_no': 17,\n",
       " 'flight_no+airline': 18,\n",
       " 'flight_time': 19,\n",
       " 'ground_fare': 20,\n",
       " 'ground_service': 21,\n",
       " 'ground_service+ground_fare': 22,\n",
       " 'meal': 23,\n",
       " 'quantity': 24,\n",
       " 'restriction': 25}"
      ]
     },
     "execution_count": 32,
     "metadata": {},
     "output_type": "execute_result"
    }
   ],
   "source": [
    "in2i"
   ]
  },
  {
   "cell_type": "code",
   "execution_count": 25,
   "metadata": {},
   "outputs": [],
   "source": [
    "# Preprocessing Data\n",
    "# Integer as Key and Token to value\n",
    "i2t, i2s, i2in = map(lambda d: {d[k]:k for k in d.keys()}, [t2i,s2i,in2i])"
   ]
  },
  {
   "cell_type": "code",
   "execution_count": 39,
   "metadata": {},
   "outputs": [
    {
     "name": "stdout",
     "output_type": "stream",
     "text": [
      "943\n",
      "129\n",
      "26\n"
     ]
    }
   ],
   "source": [
    "print(len(i2t))\n",
    "print(len(i2s))\n",
    "print(len(i2in))"
   ]
  },
  {
   "cell_type": "code",
   "execution_count": 26,
   "metadata": {},
   "outputs": [],
   "source": [
    "query, slots, intent = map(train_ds.get, ['query','slot_labels','intent_labels'])"
   ]
  },
  {
   "cell_type": "code",
   "execution_count": 37,
   "metadata": {},
   "outputs": [
    {
     "name": "stdout",
     "output_type": "stream",
     "text": [
      "4978\n",
      "4978\n",
      "4978\n"
     ]
    }
   ],
   "source": [
    "# Is the query sentences encoded using t2i?\n",
    "print(len(query))\n",
    "print(len(slots))\n",
    "print(len(intent))"
   ]
  },
  {
   "cell_type": "code",
   "execution_count": 43,
   "metadata": {},
   "outputs": [
    {
     "name": "stdout",
     "output_type": "stream",
     "text": [
      "   0:         flight: BOS i want to fly from boston at 838 am and arrive in denver at 1110 in the morning EOS\n",
      "                              BOS                                        O\n",
      "                                i                                        O\n",
      "                             want                                        O\n",
      "                               to                                        O\n",
      "                              fly                                        O\n",
      "                             from                                        O\n",
      "                           boston                      B-fromloc.city_name\n",
      "                               at                                        O\n",
      "                              838                       B-depart_time.time\n",
      "                               am                       I-depart_time.time\n",
      "                              and                                        O\n",
      "                           arrive                                        O\n",
      "                               in                                        O\n",
      "                           denver                        B-toloc.city_name\n",
      "                               at                                        O\n",
      "                             1110                       B-arrive_time.time\n",
      "                               in                                        O\n",
      "                              the                                        O\n",
      "                          morning              B-arrive_time.period_of_day\n",
      "                              EOS                                        O\n",
      "**************************************************************************\n",
      "   1:         flight: BOS what flights are available from pittsburgh to baltimore on thursday morning EOS\n",
      "                              BOS                                        O\n",
      "                             what                                        O\n",
      "                          flights                                        O\n",
      "                              are                                        O\n",
      "                        available                                        O\n",
      "                             from                                        O\n",
      "                       pittsburgh                      B-fromloc.city_name\n",
      "                               to                                        O\n",
      "                        baltimore                        B-toloc.city_name\n",
      "                               on                                        O\n",
      "                         thursday                   B-depart_date.day_name\n",
      "                          morning              B-depart_time.period_of_day\n",
      "                              EOS                                        O\n",
      "**************************************************************************\n",
      "   2:    flight_time: BOS what is the arrival time in san francisco for the 755 am flight leaving washington EOS\n",
      "                              BOS                                        O\n",
      "                             what                                        O\n",
      "                               is                                        O\n",
      "                              the                                        O\n",
      "                          arrival                            B-flight_time\n",
      "                             time                            I-flight_time\n",
      "                               in                                        O\n",
      "                              san                      B-fromloc.city_name\n",
      "                        francisco                      I-fromloc.city_name\n",
      "                              for                                        O\n",
      "                              the                                        O\n",
      "                              755                       B-depart_time.time\n",
      "                               am                       I-depart_time.time\n",
      "                           flight                                        O\n",
      "                          leaving                                        O\n",
      "                       washington                      B-fromloc.city_name\n",
      "                              EOS                                        O\n",
      "**************************************************************************\n",
      "   3:        airfare: BOS cheapest airfare from tacoma to orlando EOS\n",
      "                              BOS                                        O\n",
      "                         cheapest                          B-cost_relative\n",
      "                          airfare                                        O\n",
      "                             from                                        O\n",
      "                           tacoma                      B-fromloc.city_name\n",
      "                               to                                        O\n",
      "                          orlando                        B-toloc.city_name\n",
      "                              EOS                                        O\n",
      "**************************************************************************\n",
      "   4:        airfare: BOS round trip fares from pittsburgh to philadelphia under 1000 dollars EOS\n",
      "                              BOS                                        O\n",
      "                            round                             B-round_trip\n",
      "                             trip                             I-round_trip\n",
      "                            fares                                        O\n",
      "                             from                                        O\n",
      "                       pittsburgh                      B-fromloc.city_name\n",
      "                               to                                        O\n",
      "                     philadelphia                        B-toloc.city_name\n",
      "                            under                          B-cost_relative\n",
      "                             1000                            B-fare_amount\n",
      "                          dollars                            I-fare_amount\n",
      "                              EOS                                        O\n",
      "**************************************************************************\n"
     ]
    }
   ],
   "source": [
    "for i in range(5):\n",
    "    print('{:4d}:{:>15}: {}'.format(i,i2in[intent[i][0]],' '.join(map(i2t.get,query[i]))))\n",
    "    \n",
    "    for j in range(len(query[i])):\n",
    "        print('{:>33} {:>40}'.format(i2t[query[i][j]],i2s[slots[i][j]]))\n",
    "        \n",
    "    print('*'*74)"
   ]
  },
  {
   "cell_type": "code",
   "execution_count": null,
   "metadata": {},
   "outputs": [],
   "source": []
  }
 ],
 "metadata": {
  "kernelspec": {
   "display_name": "Python 3",
   "language": "python",
   "name": "python3"
  },
  "language_info": {
   "codemirror_mode": {
    "name": "ipython",
    "version": 3
   },
   "file_extension": ".py",
   "mimetype": "text/x-python",
   "name": "python",
   "nbconvert_exporter": "python",
   "pygments_lexer": "ipython3",
   "version": "3.7.6"
  }
 },
 "nbformat": 4,
 "nbformat_minor": 4
}
